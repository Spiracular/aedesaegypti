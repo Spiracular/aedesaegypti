{
 "cells": [
  {
   "cell_type": "code",
   "execution_count": 7,
   "metadata": {
    "ExecuteTime": {
     "end_time": "2016-04-10T17:03:31.065858",
     "start_time": "2016-04-10T17:03:31.057331"
    },
    "collapsed": false
   },
   "outputs": [
    {
     "name": "stdout",
     "output_type": "stream",
     "text": [
      "Populating the interactive namespace from numpy and matplotlib\n"
     ]
    }
   ],
   "source": [
    "%pylab inline\n",
    "\n",
    "import numpy as np\n",
    "import matplotlib.pyplot as plt\n",
    "import pandas as pd\n",
    "import math\n",
    "import os\n",
    "\n",
    "DATA_DIR = '/home/jai/Dropbox/projects/aedesaegypti/AeAegyptiBrazil/'"
   ]
  },
  {
   "cell_type": "code",
   "execution_count": 42,
   "metadata": {
    "ExecuteTime": {
     "end_time": "2016-04-10T17:15:00.161451",
     "start_time": "2016-04-10T17:14:59.310224"
    },
    "collapsed": false
   },
   "outputs": [],
   "source": [
    "adulttraps = pd.DataFrame.from_csv(\n",
    "    open(os.path.join(DATA_DIR, 'Adult traps data-Table 1.csv'), 'r'))\n",
    "fig2traps = pd.DataFrame.from_csv(\n",
    "        open(os.path.join(DATA_DIR, 'Fig 2-Table 1.csv'),'r'))\n",
    "\n",
    "adulttraps['DATE_COLLECTED'] = adulttraps.DATE_COLLECTED.apply(lambda s: pd.to_datetime(s))"
   ]
  },
  {
   "cell_type": "code",
   "execution_count": 44,
   "metadata": {
    "ExecuteTime": {
     "end_time": "2016-04-10T17:15:06.530343",
     "start_time": "2016-04-10T17:15:06.276982"
    },
    "collapsed": false
   },
   "outputs": [
    {
     "data": {
      "image/png": "[encoded data removed]",
      "text/plain": [
       "<matplotlib.figure.Figure at 0x7ff02f3a28d0>"
      ]
     },
     "metadata": {},
     "output_type": "display_data"
    }
   ],
   "source": [
    "plt.plot(adulttraps['DATE_COLLECTED'],adulttraps['Female_Culex'], 'b.', \\\n",
    "        adulttraps['DATE_COLLECTED'],adulttraps['Females_Ae_aegypti'], 'r.')\n",
    "plt.xlabel('Date')\n",
    "plt.ylabel('Mosquitoes')\n",
    "\n",
    "\n",
    "plt.show()"
   ]
  },
  {
   "cell_type": "code",
   "execution_count": 45,
   "metadata": {
    "ExecuteTime": {
     "end_time": "2016-04-10T17:15:08.126342",
     "start_time": "2016-04-10T17:15:08.108551"
    },
    "collapsed": false
   },
   "outputs": [],
   "source": [
    "pivotculex = adulttraps.pivot_table(values='Female_Culex',index='DATE_COLLECTED',\n",
    "                         aggfunc=sum)\n",
    "pivotaedes = adulttraps.pivot_table(values='Females_Ae_aegypti',index='DATE_COLLECTED',\n",
    "                         aggfunc=sum)"
   ]
  },
  {
   "cell_type": "code",
   "execution_count": 46,
   "metadata": {
    "ExecuteTime": {
     "end_time": "2016-04-10T17:15:11.589898",
     "start_time": "2016-04-10T17:15:11.560415"
    },
    "collapsed": false
   },
   "outputs": [
    {
     "data": {
      "text/plain": [
       "DATE_COLLECTED\n",
       "2011-05-24     44\n",
       "2011-05-25     47\n",
       "2011-05-26     59\n",
       "2011-05-27     55\n",
       "2011-05-28     19\n",
       "2011-05-29     20\n",
       "2011-05-30     36\n",
       "2011-05-31     31\n",
       "2011-06-01     27\n",
       "2011-06-02     23\n",
       "2011-06-03     26\n",
       "2011-06-04     15\n",
       "2011-06-05     18\n",
       "2011-06-06     13\n",
       "2011-06-07     10\n",
       "2011-06-08     22\n",
       "2011-06-09      7\n",
       "2011-07-26      4\n",
       "2011-07-27      9\n",
       "2011-07-28     35\n",
       "2011-07-29     11\n",
       "2011-07-30     10\n",
       "2011-07-31      5\n",
       "2011-08-01     10\n",
       "2011-08-02      6\n",
       "2011-08-30     23\n",
       "2011-08-31      9\n",
       "2011-09-01     13\n",
       "2011-09-02      7\n",
       "2011-09-03      5\n",
       "             ... \n",
       "2012-08-10      3\n",
       "2012-08-11      1\n",
       "2012-08-12      2\n",
       "2012-08-13      0\n",
       "2012-08-14      0\n",
       "2012-08-15      5\n",
       "2012-08-16      2\n",
       "2012-08-17      5\n",
       "2012-08-18      3\n",
       "2012-08-19      5\n",
       "2012-08-20      1\n",
       "2012-08-21      1\n",
       "2012-08-22      3\n",
       "2012-08-23      1\n",
       "2012-08-24      1\n",
       "2012-08-25      2\n",
       "2012-08-26      1\n",
       "2012-08-27      1\n",
       "2012-09-03     28\n",
       "2012-09-10     20\n",
       "2012-09-17     16\n",
       "2012-09-24     10\n",
       "2012-10-01     18\n",
       "2012-10-08     12\n",
       "2012-10-15      3\n",
       "2012-10-22     36\n",
       "2012-10-29     35\n",
       "2012-11-05     30\n",
       "2012-11-12     28\n",
       "2012-11-19    136\n",
       "Name: Females_Ae_aegypti, dtype: float64"
      ]
     },
     "execution_count": 46,
     "metadata": {},
     "output_type": "execute_result"
    }
   ],
   "source": [
    "adulttraps.pivot_table(values='Females_Ae_aegypti',index='DATE_COLLECTED',\n",
    "                         aggfunc=sum)"
   ]
  },
  {
   "cell_type": "code",
   "execution_count": 47,
   "metadata": {
    "ExecuteTime": {
     "end_time": "2016-04-10T17:15:12.723961",
     "start_time": "2016-04-10T17:15:12.715061"
    },
    "collapsed": false
   },
   "outputs": [
    {
     "data": {
      "text/plain": [
       "1937.0"
      ]
     },
     "execution_count": 47,
     "metadata": {},
     "output_type": "execute_result"
    }
   ],
   "source": [
    "sum(pivotaedes)"
   ]
  },
  {
   "cell_type": "code",
   "execution_count": 48,
   "metadata": {
    "ExecuteTime": {
     "end_time": "2016-04-10T17:15:15.250087",
     "start_time": "2016-04-10T17:15:14.990821"
    },
    "collapsed": false
   },
   "outputs": [
    {
     "data": {
      "image/png": "[encoded data removed]",
      "text/plain": [
       "<matplotlib.figure.Figure at 0x7ff02f3a2650>"
      ]
     },
     "metadata": {},
     "output_type": "display_data"
    }
   ],
   "source": [
    "plt.plot(pivotculex.index, pivotculex, 'b-',\\\n",
    "        pivotaedes.index, pivotaedes, 'r-')\n",
    "plt.xlabel('Date')\n",
    "plt.ylabel('Mosquitoes')\n",
    "\n",
    "\n",
    "plt.show()\n",
    "#Nope, not terribly useful."
   ]
  },
  {
   "cell_type": "code",
   "execution_count": 49,
   "metadata": {
    "ExecuteTime": {
     "end_time": "2016-04-10T17:15:17.564666",
     "start_time": "2016-04-10T17:15:17.263498"
    },
    "collapsed": false
   },
   "outputs": [
    {
     "data": {
      "image/png": "[encoded data removed]",
      "text/plain": [
       "<matplotlib.figure.Figure at 0x7ff02f19ee90>"
      ]
     },
     "metadata": {},
     "output_type": "display_data"
    }
   ],
   "source": [
    "plt.plot(pivotculex.index, pivotaedes/pivotculex, 'b-')\n",
    "plt.xlabel('Date')\n",
    "plt.ylabel('Mosquitoes')\n",
    "\n",
    "\n",
    "plt.show()\n",
    "#Nope, not terribly useful."
   ]
  },
  {
   "cell_type": "code",
   "execution_count": 50,
   "metadata": {
    "ExecuteTime": {
     "end_time": "2016-04-10T17:15:27.142318",
     "start_time": "2016-04-10T17:15:27.033078"
    },
    "collapsed": false
   },
   "outputs": [
    {
     "data": {
      "text/plain": [
       "array(['2011-05-23T17:00:00.000000000-0700',\n",
       "       '2011-05-24T17:00:00.000000000-0700',\n",
       "       '2011-05-25T17:00:00.000000000-0700',\n",
       "       '2011-05-26T17:00:00.000000000-0700',\n",
       "       '2011-05-27T17:00:00.000000000-0700',\n",
       "       '2011-05-28T17:00:00.000000000-0700',\n",
       "       '2011-05-29T17:00:00.000000000-0700',\n",
       "       '2011-05-30T17:00:00.000000000-0700',\n",
       "       '2011-05-31T17:00:00.000000000-0700',\n",
       "       '2011-06-01T17:00:00.000000000-0700',\n",
       "       '2011-06-02T17:00:00.000000000-0700',\n",
       "       '2011-06-03T17:00:00.000000000-0700',\n",
       "       '2011-06-04T17:00:00.000000000-0700',\n",
       "       '2011-06-05T17:00:00.000000000-0700',\n",
       "       '2011-06-06T17:00:00.000000000-0700',\n",
       "       '2011-06-07T17:00:00.000000000-0700',\n",
       "       '2011-06-08T17:00:00.000000000-0700',\n",
       "       '2011-07-25T17:00:00.000000000-0700',\n",
       "       '2011-07-26T17:00:00.000000000-0700',\n",
       "       '2011-07-27T17:00:00.000000000-0700',\n",
       "       '2011-07-28T17:00:00.000000000-0700',\n",
       "       '2011-07-29T17:00:00.000000000-0700',\n",
       "       '2011-07-30T17:00:00.000000000-0700',\n",
       "       '2011-07-31T17:00:00.000000000-0700',\n",
       "       '2011-08-01T17:00:00.000000000-0700',\n",
       "       '2011-08-29T17:00:00.000000000-0700',\n",
       "       '2011-08-30T17:00:00.000000000-0700',\n",
       "       '2011-08-31T17:00:00.000000000-0700',\n",
       "       '2011-09-01T17:00:00.000000000-0700',\n",
       "       '2011-09-02T17:00:00.000000000-0700',\n",
       "       '2011-09-03T17:00:00.000000000-0700',\n",
       "       '2011-09-04T17:00:00.000000000-0700',\n",
       "       '2011-09-05T17:00:00.000000000-0700',\n",
       "       '2011-09-19T17:00:00.000000000-0700',\n",
       "       '2011-09-20T17:00:00.000000000-0700',\n",
       "       '2011-09-21T17:00:00.000000000-0700',\n",
       "       '2011-09-22T17:00:00.000000000-0700',\n",
       "       '2011-09-23T17:00:00.000000000-0700',\n",
       "       '2011-09-24T17:00:00.000000000-0700',\n",
       "       '2011-09-25T17:00:00.000000000-0700',\n",
       "       '2011-09-26T17:00:00.000000000-0700',\n",
       "       '2011-09-27T17:00:00.000000000-0700',\n",
       "       '2011-09-28T17:00:00.000000000-0700',\n",
       "       '2011-11-07T16:00:00.000000000-0800',\n",
       "       '2011-11-08T16:00:00.000000000-0800',\n",
       "       '2011-11-09T16:00:00.000000000-0800',\n",
       "       '2011-11-10T16:00:00.000000000-0800',\n",
       "       '2011-11-11T16:00:00.000000000-0800',\n",
       "       '2011-11-12T16:00:00.000000000-0800',\n",
       "       '2011-11-13T16:00:00.000000000-0800',\n",
       "       '2011-11-14T16:00:00.000000000-0800',\n",
       "       '2012-01-16T16:00:00.000000000-0800',\n",
       "       '2012-01-17T16:00:00.000000000-0800',\n",
       "       '2012-01-18T16:00:00.000000000-0800',\n",
       "       '2012-01-19T16:00:00.000000000-0800',\n",
       "       '2012-01-20T16:00:00.000000000-0800',\n",
       "       '2012-01-21T16:00:00.000000000-0800',\n",
       "       '2012-01-22T16:00:00.000000000-0800',\n",
       "       '2012-01-23T16:00:00.000000000-0800',\n",
       "       '2012-01-24T16:00:00.000000000-0800',\n",
       "       '2012-01-25T16:00:00.000000000-0800',\n",
       "       '2012-01-26T16:00:00.000000000-0800',\n",
       "       '2012-02-19T16:00:00.000000000-0800',\n",
       "       '2012-02-26T16:00:00.000000000-0800',\n",
       "       '2012-04-03T17:00:00.000000000-0700',\n",
       "       '2012-04-15T17:00:00.000000000-0700',\n",
       "       '2012-04-22T17:00:00.000000000-0700',\n",
       "       '2012-04-29T17:00:00.000000000-0700',\n",
       "       '2012-05-06T17:00:00.000000000-0700',\n",
       "       '2012-05-13T17:00:00.000000000-0700',\n",
       "       '2012-05-20T17:00:00.000000000-0700',\n",
       "       '2012-05-27T17:00:00.000000000-0700',\n",
       "       '2012-06-03T17:00:00.000000000-0700',\n",
       "       '2012-06-10T17:00:00.000000000-0700',\n",
       "       '2012-06-17T17:00:00.000000000-0700',\n",
       "       '2012-06-24T17:00:00.000000000-0700',\n",
       "       '2012-07-01T17:00:00.000000000-0700',\n",
       "       '2012-07-08T17:00:00.000000000-0700',\n",
       "       '2012-07-15T17:00:00.000000000-0700',\n",
       "       '2012-07-22T17:00:00.000000000-0700',\n",
       "       '2012-07-29T17:00:00.000000000-0700',\n",
       "       '2012-08-05T17:00:00.000000000-0700',\n",
       "       '2012-08-08T17:00:00.000000000-0700',\n",
       "       '2012-08-09T17:00:00.000000000-0700',\n",
       "       '2012-08-10T17:00:00.000000000-0700',\n",
       "       '2012-08-11T17:00:00.000000000-0700',\n",
       "       '2012-08-12T17:00:00.000000000-0700',\n",
       "       '2012-08-13T17:00:00.000000000-0700',\n",
       "       '2012-08-14T17:00:00.000000000-0700',\n",
       "       '2012-08-15T17:00:00.000000000-0700',\n",
       "       '2012-08-16T17:00:00.000000000-0700',\n",
       "       '2012-08-17T17:00:00.000000000-0700',\n",
       "       '2012-08-18T17:00:00.000000000-0700',\n",
       "       '2012-08-19T17:00:00.000000000-0700',\n",
       "       '2012-08-20T17:00:00.000000000-0700',\n",
       "       '2012-08-21T17:00:00.000000000-0700',\n",
       "       '2012-08-22T17:00:00.000000000-0700',\n",
       "       '2012-08-23T17:00:00.000000000-0700',\n",
       "       '2012-08-24T17:00:00.000000000-0700',\n",
       "       '2012-08-25T17:00:00.000000000-0700',\n",
       "       '2012-08-26T17:00:00.000000000-0700',\n",
       "       '2012-09-02T17:00:00.000000000-0700',\n",
       "       '2012-09-09T17:00:00.000000000-0700',\n",
       "       '2012-09-16T17:00:00.000000000-0700',\n",
       "       '2012-09-23T17:00:00.000000000-0700',\n",
       "       '2012-09-30T17:00:00.000000000-0700',\n",
       "       '2012-10-07T17:00:00.000000000-0700',\n",
       "       '2012-10-14T17:00:00.000000000-0700',\n",
       "       '2012-10-21T17:00:00.000000000-0700',\n",
       "       '2012-10-28T17:00:00.000000000-0700',\n",
       "       '2012-11-04T16:00:00.000000000-0800',\n",
       "       '2012-11-11T16:00:00.000000000-0800',\n",
       "       '2012-11-18T16:00:00.000000000-0800'], dtype='datetime64[ns]')"
      ]
     },
     "execution_count": 50,
     "metadata": {},
     "output_type": "execute_result"
    }
   ],
   "source": [
    "adulttraps['Females_Ae_aegypti'].unique()\n",
    "adulttraps['DATE_COLLECTED'].unique()"
   ]
  },
  {
   "cell_type": "code",
   "execution_count": 51,
   "metadata": {
    "ExecuteTime": {
     "end_time": "2016-04-10T17:15:28.538097",
     "start_time": "2016-04-10T17:15:28.450190"
    },
    "collapsed": true
   },
   "outputs": [],
   "source": [
    "adulttraps['DATE_COLLECTED'] = adulttraps[['DATE_COLLECTED']].applymap(lambda s: pd.to_datetime(s))\n",
    "#stormdet2014[['DAMAGE_CROPS', 'DAMAGE_PROPERTY']] = \\\n",
    "#    stormdet2014[['DAMAGE_CROPS', 'DAMAGE_PROPERTY']].applymap(lambda s: KMBParse(s))"
   ]
  },
  {
   "cell_type": "code",
   "execution_count": 52,
   "metadata": {
    "ExecuteTime": {
     "end_time": "2016-04-10T17:15:29.381988",
     "start_time": "2016-04-10T17:15:29.374477"
    },
    "collapsed": false
   },
   "outputs": [
    {
     "data": {
      "text/plain": [
       "dtype('<M8[ns]')"
      ]
     },
     "execution_count": 52,
     "metadata": {},
     "output_type": "execute_result"
    }
   ],
   "source": [
    "adulttraps['DATE_COLLECTED'].dtypes"
   ]
  },
  {
   "cell_type": "code",
   "execution_count": 53,
   "metadata": {
    "ExecuteTime": {
     "end_time": "2016-04-10T17:15:30.192229",
     "start_time": "2016-04-10T17:15:30.179540"
    },
    "collapsed": false
   },
   "outputs": [
    {
     "data": {
      "text/plain": [
       "Trap_name\n",
       "D1RF1   2011-05-24\n",
       "D1RF2   2011-05-24\n",
       "D1RF3   2011-05-24\n",
       "D1RF4   2011-05-24\n",
       "D1RF5   2011-05-24\n",
       "Name: DATE_COLLECTED, dtype: datetime64[ns]"
      ]
     },
     "execution_count": 53,
     "metadata": {},
     "output_type": "execute_result"
    }
   ],
   "source": [
    "adulttraps['DATE_COLLECTED'].head()"
   ]
  },
  {
   "cell_type": "code",
   "execution_count": 54,
   "metadata": {
    "ExecuteTime": {
     "end_time": "2016-04-10T17:15:31.735665",
     "start_time": "2016-04-10T17:15:31.722968"
    },
    "collapsed": false
   },
   "outputs": [
    {
     "data": {
      "text/plain": [
       "Trap_name\n",
       "D1RF1      1\n",
       "D1RF2      5\n",
       "D1RF3      9\n",
       "D1RF4      0\n",
       "D1RF5      4\n",
       "D1RF6      0\n",
       "D1RF7      1\n",
       "D1RF8      1\n",
       "D1RF9      1\n",
       "D1RF10     0\n",
       "D1RF11     0\n",
       "D1RF12     0\n",
       "D1RF13     2\n",
       "D1RF14     0\n",
       "D1RF15     4\n",
       "D1RF16     1\n",
       "D1RF17     0\n",
       "D1RF18     3\n",
       "D1RF19     2\n",
       "D1RF20     2\n",
       "D1RF21     1\n",
       "D1RF22     3\n",
       "D1RF23     0\n",
       "D1RF24     2\n",
       "D1RF25     2\n",
       "D2RF1      2\n",
       "D2RF2      4\n",
       "D2RF3      1\n",
       "D2RF4      5\n",
       "D2RF5      2\n",
       "          ..\n",
       "8          0\n",
       "9          0\n",
       "10         0\n",
       "11         0\n",
       "12         0\n",
       "13         0\n",
       "14         0\n",
       "15        18\n",
       "16         0\n",
       "17         6\n",
       "18         0\n",
       "19         0\n",
       "20         0\n",
       "1          1\n",
       "2          3\n",
       "3          0\n",
       "4          0\n",
       "5          2\n",
       "6          1\n",
       "7          0\n",
       "8          5\n",
       "9          0\n",
       "10        19\n",
       "11         0\n",
       "12         0\n",
       "13         0\n",
       "14        96\n",
       "15         0\n",
       "16         0\n",
       "17         9\n",
       "Name: Females_Ae_aegypti, dtype: float64"
      ]
     },
     "execution_count": 54,
     "metadata": {},
     "output_type": "execute_result"
    }
   ],
   "source": [
    "adulttraps.Females_Ae_aegypti"
   ]
  }
 ],
 "metadata": {
  "kernelspec": {
   "display_name": "Python 2",
   "language": "python",
   "name": "python2"
  },
  "language_info": {
   "codemirror_mode": {
    "name": "ipython",
    "version": 2
   },
   "file_extension": ".py",
   "mimetype": "text/x-python",
   "name": "python",
   "nbconvert_exporter": "python",
   "pygments_lexer": "ipython2",
   "version": "2.7.10"
  },
  "toc": {
   "toc_cell": false,
   "toc_number_sections": false,
   "toc_threshold": 6,
   "toc_window_display": false
  }
 },
 "nbformat": 4,
 "nbformat_minor": 0
}
