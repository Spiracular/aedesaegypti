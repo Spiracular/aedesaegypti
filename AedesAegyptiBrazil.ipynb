{
 "cells": [
  {
   "cell_type": "code",
   "execution_count": 18,
   "metadata": {
    "collapsed": false
   },
   "outputs": [
    {
     "name": "stdout",
     "output_type": "stream",
     "text": [
      "Populating the interactive namespace from numpy and matplotlib\n"
     ]
    },
    {
     "name": "stderr",
     "output_type": "stream",
     "text": [
      "WARNING: pylab import has clobbered these variables: ['plt']\n",
      "`%matplotlib` prevents importing * from pylab and numpy\n"
     ]
    }
   ],
   "source": [
    "%pylab inline\n",
    "\n",
    "import numpy as np\n",
    "import matplotlib.pyplot as plt\n",
    "import pandas as pd\n",
    "import math"
   ]
  },
  {
   "cell_type": "code",
   "execution_count": 47,
   "metadata": {
    "collapsed": true
   },
   "outputs": [],
   "source": [
    "adulttraps = pd.DataFrame.from_csv(open('Data/AeAegyptiBrazil/Adult traps data-Table 1.csv',\n",
    "                                       'r'))\n",
    "fig2traps = pd.DataFrame.from_csv(open('Data/AeAegyptiBrazil/Fig 2-Table 1.csv',\n",
    "                                       'r'))"
   ]
  },
  {
   "cell_type": "code",
   "execution_count": 48,
   "metadata": {
    "collapsed": false
   },
   "outputs": [
    {
     "data": {
      "text/html": [
       "<div>\n",
       "<table border=\"1\" class=\"dataframe\">\n",
       "  <thead>\n",
       "    <tr style=\"text-align: right;\">\n",
       "      <th></th>\n",
       "      <th>Fluorecent Larvae</th>\n",
       "      <th>Fluorescent larvae -95%CI</th>\n",
       "      <th>Fluorescent larvae +95%CI</th>\n",
       "      <th>Released/ha/week</th>\n",
       "    </tr>\n",
       "    <tr>\n",
       "      <th>Date</th>\n",
       "      <th></th>\n",
       "      <th></th>\n",
       "      <th></th>\n",
       "      <th></th>\n",
       "    </tr>\n",
       "  </thead>\n",
       "  <tbody>\n",
       "    <tr>\n",
       "      <th>5-11 May</th>\n",
       "      <td>NaN</td>\n",
       "      <td>NaN</td>\n",
       "      <td>NaN</td>\n",
       "      <td>2804.477273</td>\n",
       "    </tr>\n",
       "    <tr>\n",
       "      <th>12-18 May</th>\n",
       "      <td>0.005870</td>\n",
       "      <td>0.005321</td>\n",
       "      <td>0.009225</td>\n",
       "      <td>3160.318182</td>\n",
       "    </tr>\n",
       "    <tr>\n",
       "      <th>19-25 May</th>\n",
       "      <td>0.044136</td>\n",
       "      <td>0.023628</td>\n",
       "      <td>0.041073</td>\n",
       "      <td>3029.214286</td>\n",
       "    </tr>\n",
       "    <tr>\n",
       "      <th>26 May-1 June</th>\n",
       "      <td>0.123780</td>\n",
       "      <td>0.084853</td>\n",
       "      <td>0.124621</td>\n",
       "      <td>2777.575758</td>\n",
       "    </tr>\n",
       "    <tr>\n",
       "      <th>2-8 June</th>\n",
       "      <td>0.111111</td>\n",
       "      <td>0.065323</td>\n",
       "      <td>0.074434</td>\n",
       "      <td>2546.984848</td>\n",
       "    </tr>\n",
       "  </tbody>\n",
       "</table>\n",
       "</div>"
      ],
      "text/plain": [
       "               Fluorecent Larvae  Fluorescent larvae -95%CI  \\\n",
       "Date                                                          \n",
       "5-11 May                     NaN                        NaN   \n",
       "12-18 May               0.005870                   0.005321   \n",
       "19-25 May               0.044136                   0.023628   \n",
       "26 May-1 June           0.123780                   0.084853   \n",
       "2-8 June                0.111111                   0.065323   \n",
       "\n",
       "               Fluorescent larvae +95%CI  Released/ha/week  \n",
       "Date                                                        \n",
       "5-11 May                             NaN       2804.477273  \n",
       "12-18 May                       0.009225       3160.318182  \n",
       "19-25 May                       0.041073       3029.214286  \n",
       "26 May-1 June                   0.124621       2777.575758  \n",
       "2-8 June                        0.074434       2546.984848  "
      ]
     },
     "execution_count": 48,
     "metadata": {},
     "output_type": "execute_result"
    }
   ],
   "source": [
    "fig2traps.head()"
   ]
  },
  {
   "cell_type": "code",
   "execution_count": 4,
   "metadata": {
    "collapsed": false
   },
   "outputs": [
    {
     "data": {
      "text/plain": [
       "Lat                   float64\n",
       "Long                  float64\n",
       "Area                   object\n",
       "DATE_SET_UP            object\n",
       "DATE_COLLECTED         object\n",
       "Days_Trapping         float64\n",
       "Trap_Recoverd         float64\n",
       "Males_Ae_aegypti      float64\n",
       "Females_Ae_aegypti    float64\n",
       "Male_Culex            float64\n",
       "Female_Culex          float64\n",
       "Culex                   int64\n",
       "Trap_Type              object\n",
       "Male_Unmarked         float64\n",
       "Female_Unmarked       float64\n",
       "Male_M_1              float64\n",
       "Female_M_1            float64\n",
       "Male_M_2              float64\n",
       "Female_M_2            float64\n",
       "Male_M_3              float64\n",
       "Female_M_3            float64\n",
       "Male_M_4              float64\n",
       "Female_M_4            float64\n",
       "dtype: object"
      ]
     },
     "execution_count": 4,
     "metadata": {},
     "output_type": "execute_result"
    }
   ],
   "source": [
    "adulttraps.dtypes"
   ]
  },
  {
   "cell_type": "code",
   "execution_count": 44,
   "metadata": {
    "collapsed": false
   },
   "outputs": [
    {
     "data": {
      "text/plain": [
       "array(['B/A', 'U', 'B', 'A'], dtype=object)"
      ]
     },
     "execution_count": 44,
     "metadata": {},
     "output_type": "execute_result"
    }
   ],
   "source": [
    "adulttraps['Area'].unique()"
   ]
  },
  {
   "cell_type": "code",
   "execution_count": 20,
   "metadata": {
    "collapsed": false
   },
   "outputs": [
    {
     "data": {
      "image/png": "[encoded data removed]",
      "text/plain": [
       "<matplotlib.figure.Figure at 0x1034372b0>"
      ]
     },
     "metadata": {},
     "output_type": "display_data"
    }
   ],
   "source": [
    "\n",
    "plt.plot(adulttraps['DATE_COLLECTED'],adulttraps['Female_Culex'], 'b.', \\\n",
    "        adulttraps['DATE_COLLECTED'],adulttraps['Females_Ae_aegypti'], 'r.')\n",
    "plt.xlabel('Date')\n",
    "plt.ylabel('Mosquitoes')\n",
    "\n",
    "\n",
    "plt.show()\n",
    "\n",
    "#Dang it, I need to try to sum over dates for an aggregate measure."
   ]
  },
  {
   "cell_type": "code",
   "execution_count": 37,
   "metadata": {
    "collapsed": false
   },
   "outputs": [],
   "source": [
    "pivotculex = adulttraps.pivot_table(values='Female_Culex',index='DATE_COLLECTED',\n",
    "                         aggfunc=sum)\n",
    "pivotaedes = adulttraps.pivot_table(values='Females_Ae_aegypti',index='DATE_COLLECTED',\n",
    "                         aggfunc=sum)"
   ]
  },
  {
   "cell_type": "code",
   "execution_count": 32,
   "metadata": {
    "collapsed": false
   },
   "outputs": [
    {
     "data": {
      "text/plain": [
       "DatetimeIndex(['2011-05-24', '2011-05-25', '2011-05-26', '2011-05-27',\n",
       "               '2011-05-28', '2011-05-29', '2011-05-30', '2011-05-31',\n",
       "               '2011-06-01', '2011-06-02',\n",
       "               ...\n",
       "               '2012-09-17', '2012-09-24', '2012-10-01', '2012-10-08',\n",
       "               '2012-10-15', '2012-10-22', '2012-10-29', '2012-11-05',\n",
       "               '2012-11-12', '2012-11-19'],\n",
       "              dtype='datetime64[ns]', name='DATE_COLLECTED', length=113, freq=None)"
      ]
     },
     "execution_count": 32,
     "metadata": {},
     "output_type": "execute_result"
    }
   ],
   "source": [
    "pivotculex.index"
   ]
  },
  {
   "cell_type": "code",
   "execution_count": 45,
   "metadata": {
    "collapsed": false
   },
   "outputs": [
    {
     "data": {
      "text/plain": [
       "DATE_COLLECTED\n",
       "2011-05-24     44\n",
       "2011-05-25     47\n",
       "2011-05-26     59\n",
       "2011-05-27     55\n",
       "2011-05-28     19\n",
       "2011-05-29     20\n",
       "2011-05-30     36\n",
       "2011-05-31     31\n",
       "2011-06-01     27\n",
       "2011-06-02     23\n",
       "2011-06-03     26\n",
       "2011-06-04     15\n",
       "2011-06-05     18\n",
       "2011-06-06     13\n",
       "2011-06-07     10\n",
       "2011-06-08     22\n",
       "2011-06-09      7\n",
       "2011-07-26      4\n",
       "2011-07-27      9\n",
       "2011-07-28     35\n",
       "2011-07-29     11\n",
       "2011-07-30     10\n",
       "2011-07-31      5\n",
       "2011-08-01     10\n",
       "2011-08-02      6\n",
       "2011-08-30     23\n",
       "2011-08-31      9\n",
       "2011-09-01     13\n",
       "2011-09-02      7\n",
       "2011-09-03      5\n",
       "             ... \n",
       "2012-08-10      3\n",
       "2012-08-11      1\n",
       "2012-08-12      2\n",
       "2012-08-13      0\n",
       "2012-08-14      0\n",
       "2012-08-15      5\n",
       "2012-08-16      2\n",
       "2012-08-17      5\n",
       "2012-08-18      3\n",
       "2012-08-19      5\n",
       "2012-08-20      1\n",
       "2012-08-21      1\n",
       "2012-08-22      3\n",
       "2012-08-23      1\n",
       "2012-08-24      1\n",
       "2012-08-25      2\n",
       "2012-08-26      1\n",
       "2012-08-27      1\n",
       "2012-09-03     28\n",
       "2012-09-10     20\n",
       "2012-09-17     16\n",
       "2012-09-24     10\n",
       "2012-10-01     18\n",
       "2012-10-08     12\n",
       "2012-10-15      3\n",
       "2012-10-22     36\n",
       "2012-10-29     35\n",
       "2012-11-05     30\n",
       "2012-11-12     28\n",
       "2012-11-19    136\n",
       "Name: Females_Ae_aegypti, dtype: float64"
      ]
     },
     "execution_count": 45,
     "metadata": {},
     "output_type": "execute_result"
    }
   ],
   "source": [
    "adulttraps.pivot_table(values='Females_Ae_aegypti',index='DATE_COLLECTED',\n",
    "                         aggfunc=sum)"
   ]
  },
  {
   "cell_type": "code",
   "execution_count": 46,
   "metadata": {
    "collapsed": false
   },
   "outputs": [
    {
     "data": {
      "text/plain": [
       "1937.0"
      ]
     },
     "execution_count": 46,
     "metadata": {},
     "output_type": "execute_result"
    }
   ],
   "source": [
    "sum(pivotaedes)"
   ]
  },
  {
   "cell_type": "code",
   "execution_count": 41,
   "metadata": {
    "collapsed": false
   },
   "outputs": [
    {
     "data": {
      "image/png": "[encoded data removed]",
      "text/plain": [
       "<matplotlib.figure.Figure at 0x115bb6e10>"
      ]
     },
     "metadata": {},
     "output_type": "display_data"
    }
   ],
   "source": [
    "plt.plot(pivotculex.index, pivotculex, 'b-',\\\n",
    "        pivotaedes.index, pivotaedes, 'r-')\n",
    "plt.xlabel('Date')\n",
    "plt.ylabel('Mosquitoes')\n",
    "\n",
    "\n",
    "plt.show()\n",
    "#Nope, not terribly useful."
   ]
  },
  {
   "cell_type": "code",
   "execution_count": 50,
   "metadata": {
    "collapsed": false
   },
   "outputs": [
    {
     "data": {
      "image/png": "[encoded data removed]",
      "text/plain": [
       "<matplotlib.figure.Figure at 0x11603fdd8>"
      ]
     },
     "metadata": {},
     "output_type": "display_data"
    }
   ],
   "source": [
    "plt.plot(pivotculex.index, pivotaedes/pivotculex, 'b-')\n",
    "plt.xlabel('Date')\n",
    "plt.ylabel('Mosquitoes')\n",
    "\n",
    "\n",
    "plt.show()\n",
    "#Nope, not terribly useful."
   ]
  },
  {
   "cell_type": "code",
   "execution_count": null,
   "metadata": {
    "collapsed": true
   },
   "outputs": [],
   "source": []
  },
  {
   "cell_type": "code",
   "execution_count": 6,
   "metadata": {
    "collapsed": false
   },
   "outputs": [
    {
     "data": {
      "text/plain": [
       "array(['5/24/11', '5/25/11', '5/26/11', '5/27/11', '5/28/11', '5/29/11',\n",
       "       '5/30/11', '5/31/11', '6/1/11', '6/2/11', '6/3/11', '6/4/11',\n",
       "       '6/5/11', '6/6/11', '6/7/11', '6/8/11', '6/9/11', '7/26/11',\n",
       "       '7/27/11', '7/28/11', '7/29/11', '7/30/11', '7/31/11', '8/1/11',\n",
       "       '8/2/11', '8/30/11', '8/31/11', '9/1/11', '9/2/11', '9/3/11',\n",
       "       '9/4/11', '9/5/11', '9/6/11', '9/20/11', '9/21/11', '9/22/11',\n",
       "       '9/23/11', '9/24/11', '9/25/11', '9/26/11', '9/27/11', '9/28/11',\n",
       "       '9/29/11', '11/8/11', '11/9/11', '11/10/11', '11/11/11', '11/12/11',\n",
       "       '11/13/11', '11/14/11', '11/15/11', '1/17/12', '1/18/12', '1/19/12',\n",
       "       '1/20/12', '1/21/12', '1/22/12', '1/23/12', '1/24/12', '1/25/12',\n",
       "       '1/26/12', '1/27/12', '2/20/12', '2/27/12', '4/4/12', '4/16/12',\n",
       "       '4/23/12', '4/30/12', '5/7/12', '5/14/12', '5/21/12', '5/28/12',\n",
       "       '6/4/12', '6/11/12', '6/18/12', '6/25/12', '7/2/12', '7/9/12',\n",
       "       '7/16/12', '7/23/12', '7/30/12', '8/6/12', '8/9/12', '8/10/12',\n",
       "       '8/11/12', '8/12/12', '8/13/12', '8/14/12', '8/15/12', '8/16/12',\n",
       "       '8/17/12', '8/18/12', '8/19/12', '8/20/12', '8/21/12', '8/22/12',\n",
       "       '8/23/12', '8/24/12', '8/25/12', '8/26/12', '8/27/12', '9/3/12',\n",
       "       '9/10/12', '9/17/12', '9/24/12', '10/1/12', '10/8/12', '10/15/12',\n",
       "       '10/22/12', '10/29/12', '11/5/12', '11/12/12', '11/19/12'], dtype=object)"
      ]
     },
     "execution_count": 6,
     "metadata": {},
     "output_type": "execute_result"
    }
   ],
   "source": [
    "adulttraps['Females_Ae_aegypti'].unique()\n",
    "adulttraps['DATE_COLLECTED'].unique()"
   ]
  },
  {
   "cell_type": "code",
   "execution_count": 12,
   "metadata": {
    "collapsed": false
   },
   "outputs": [
    {
     "ename": "TypeError",
     "evalue": "to_datetime() missing 1 required positional argument: 'arg'",
     "output_type": "error",
     "traceback": [
      "\u001b[0;31m---------------------------------------------------------------------------\u001b[0m",
      "\u001b[0;31mTypeError\u001b[0m                                 Traceback (most recent call last)",
      "\u001b[0;32m<ipython-input-12-5744b65637f3>\u001b[0m in \u001b[0;36m<module>\u001b[0;34m()\u001b[0m\n\u001b[0;32m----> 1\u001b[0;31m \u001b[0mpd\u001b[0m\u001b[0;34m.\u001b[0m\u001b[0mto_datetime\u001b[0m\u001b[0;34m(\u001b[0m\u001b[0;34m)\u001b[0m\u001b[0;34m\u001b[0m\u001b[0m\n\u001b[0m",
      "\u001b[0;32m/Users/Spirapple/anaconda/lib/python3.5/site-packages/pandas/util/decorators.py\u001b[0m in \u001b[0;36mwrapper\u001b[0;34m(*args, **kwargs)\u001b[0m\n\u001b[1;32m     87\u001b[0m                 \u001b[0;32melse\u001b[0m\u001b[0;34m:\u001b[0m\u001b[0;34m\u001b[0m\u001b[0m\n\u001b[1;32m     88\u001b[0m                     \u001b[0mkwargs\u001b[0m\u001b[0;34m[\u001b[0m\u001b[0mnew_arg_name\u001b[0m\u001b[0;34m]\u001b[0m \u001b[0;34m=\u001b[0m \u001b[0mnew_arg_value\u001b[0m\u001b[0;34m\u001b[0m\u001b[0m\n\u001b[0;32m---> 89\u001b[0;31m             \u001b[0;32mreturn\u001b[0m \u001b[0mfunc\u001b[0m\u001b[0;34m(\u001b[0m\u001b[0;34m*\u001b[0m\u001b[0margs\u001b[0m\u001b[0;34m,\u001b[0m \u001b[0;34m**\u001b[0m\u001b[0mkwargs\u001b[0m\u001b[0;34m)\u001b[0m\u001b[0;34m\u001b[0m\u001b[0m\n\u001b[0m\u001b[1;32m     90\u001b[0m         \u001b[0;32mreturn\u001b[0m \u001b[0mwrapper\u001b[0m\u001b[0;34m\u001b[0m\u001b[0m\n\u001b[1;32m     91\u001b[0m     \u001b[0;32mreturn\u001b[0m \u001b[0m_deprecate_kwarg\u001b[0m\u001b[0;34m\u001b[0m\u001b[0m\n",
      "\u001b[0;31mTypeError\u001b[0m: to_datetime() missing 1 required positional argument: 'arg'"
     ]
    }
   ],
   "source": [
    "pd.to_datetime()"
   ]
  },
  {
   "cell_type": "code",
   "execution_count": 13,
   "metadata": {
    "collapsed": true
   },
   "outputs": [],
   "source": [
    "adulttraps['DATE_COLLECTED'] = adulttraps[['DATE_COLLECTED']].applymap(lambda s: pd.to_datetime(s))\n",
    "#stormdet2014[['DAMAGE_CROPS', 'DAMAGE_PROPERTY']] = \\\n",
    "#    stormdet2014[['DAMAGE_CROPS', 'DAMAGE_PROPERTY']].applymap(lambda s: KMBParse(s))"
   ]
  },
  {
   "cell_type": "code",
   "execution_count": 15,
   "metadata": {
    "collapsed": false
   },
   "outputs": [
    {
     "data": {
      "text/plain": [
       "dtype('<M8[ns]')"
      ]
     },
     "execution_count": 15,
     "metadata": {},
     "output_type": "execute_result"
    }
   ],
   "source": [
    "adulttraps['DATE_COLLECTED'].dtypes"
   ]
  },
  {
   "cell_type": "code",
   "execution_count": 23,
   "metadata": {
    "collapsed": false
   },
   "outputs": [
    {
     "data": {
      "text/plain": [
       "Trap_name\n",
       "D1RF1   2011-05-24\n",
       "D1RF2   2011-05-24\n",
       "D1RF3   2011-05-24\n",
       "D1RF4   2011-05-24\n",
       "D1RF5   2011-05-24\n",
       "Name: DATE_COLLECTED, dtype: datetime64[ns]"
      ]
     },
     "execution_count": 23,
     "metadata": {},
     "output_type": "execute_result"
    }
   ],
   "source": [
    "adulttraps['DATE_COLLECTED'].head()"
   ]
  },
  {
   "cell_type": "code",
   "execution_count": 22,
   "metadata": {
    "collapsed": false
   },
   "outputs": [
    {
     "name": "stderr",
     "output_type": "stream",
     "text": [
      "/Users/Spirapple/anaconda/lib/python3.5/site-packages/pandas/core/ops.py:680: FutureWarning: elementwise comparison failed; returning scalar instead, but in the future will perform elementwise comparison\n",
      "  result = getattr(x, name)(y)\n"
     ]
    },
    {
     "ename": "TypeError",
     "evalue": "invalid type comparison",
     "output_type": "error",
     "traceback": [
      "\u001b[0;31m---------------------------------------------------------------------------\u001b[0m",
      "\u001b[0;31mTypeError\u001b[0m                                 Traceback (most recent call last)",
      "\u001b[0;32m<ipython-input-22-acecd481d8ae>\u001b[0m in \u001b[0;36m<module>\u001b[0;34m()\u001b[0m\n\u001b[0;32m----> 1\u001b[0;31m \u001b[0madulttraps\u001b[0m\u001b[0;34m[\u001b[0m\u001b[0madulttraps\u001b[0m\u001b[0;34m[\u001b[0m\u001b[0;34m'Females_Ae_aegypti'\u001b[0m\u001b[0;34m]\u001b[0m\u001b[0;34m==\u001b[0m \u001b[0;34m'2012-11-19'\u001b[0m\u001b[0;34m]\u001b[0m\u001b[0;34m.\u001b[0m\u001b[0mhead\u001b[0m\u001b[0;34m(\u001b[0m\u001b[0;34m)\u001b[0m\u001b[0;34m\u001b[0m\u001b[0m\n\u001b[0m",
      "\u001b[0;32m/Users/Spirapple/anaconda/lib/python3.5/site-packages/pandas/core/ops.py\u001b[0m in \u001b[0;36mwrapper\u001b[0;34m(self, other, axis)\u001b[0m\n\u001b[1;32m    724\u001b[0m                 \u001b[0mother\u001b[0m \u001b[0;34m=\u001b[0m \u001b[0mnp\u001b[0m\u001b[0;34m.\u001b[0m\u001b[0masarray\u001b[0m\u001b[0;34m(\u001b[0m\u001b[0mother\u001b[0m\u001b[0;34m)\u001b[0m\u001b[0;34m\u001b[0m\u001b[0m\n\u001b[1;32m    725\u001b[0m \u001b[0;34m\u001b[0m\u001b[0m\n\u001b[0;32m--> 726\u001b[0;31m             \u001b[0mres\u001b[0m \u001b[0;34m=\u001b[0m \u001b[0mna_op\u001b[0m\u001b[0;34m(\u001b[0m\u001b[0mvalues\u001b[0m\u001b[0;34m,\u001b[0m \u001b[0mother\u001b[0m\u001b[0;34m)\u001b[0m\u001b[0;34m\u001b[0m\u001b[0m\n\u001b[0m\u001b[1;32m    727\u001b[0m             \u001b[0;32mif\u001b[0m \u001b[0misscalar\u001b[0m\u001b[0;34m(\u001b[0m\u001b[0mres\u001b[0m\u001b[0;34m)\u001b[0m\u001b[0;34m:\u001b[0m\u001b[0;34m\u001b[0m\u001b[0m\n\u001b[1;32m    728\u001b[0m                 raise TypeError('Could not compare %s type with Series'\n",
      "\u001b[0;32m/Users/Spirapple/anaconda/lib/python3.5/site-packages/pandas/core/ops.py\u001b[0m in \u001b[0;36mna_op\u001b[0;34m(x, y)\u001b[0m\n\u001b[1;32m    680\u001b[0m                 \u001b[0mresult\u001b[0m \u001b[0;34m=\u001b[0m \u001b[0mgetattr\u001b[0m\u001b[0;34m(\u001b[0m\u001b[0mx\u001b[0m\u001b[0;34m,\u001b[0m \u001b[0mname\u001b[0m\u001b[0;34m)\u001b[0m\u001b[0;34m(\u001b[0m\u001b[0my\u001b[0m\u001b[0;34m)\u001b[0m\u001b[0;34m\u001b[0m\u001b[0m\n\u001b[1;32m    681\u001b[0m                 \u001b[0;32mif\u001b[0m \u001b[0mresult\u001b[0m \u001b[0;32mis\u001b[0m \u001b[0mNotImplemented\u001b[0m\u001b[0;34m:\u001b[0m\u001b[0;34m\u001b[0m\u001b[0m\n\u001b[0;32m--> 682\u001b[0;31m                     \u001b[0;32mraise\u001b[0m \u001b[0mTypeError\u001b[0m\u001b[0;34m(\u001b[0m\u001b[0;34m\"invalid type comparison\"\u001b[0m\u001b[0;34m)\u001b[0m\u001b[0;34m\u001b[0m\u001b[0m\n\u001b[0m\u001b[1;32m    683\u001b[0m             \u001b[0;32mexcept\u001b[0m \u001b[0mAttributeError\u001b[0m\u001b[0;34m:\u001b[0m\u001b[0;34m\u001b[0m\u001b[0m\n\u001b[1;32m    684\u001b[0m                 \u001b[0mresult\u001b[0m \u001b[0;34m=\u001b[0m \u001b[0mop\u001b[0m\u001b[0;34m(\u001b[0m\u001b[0mx\u001b[0m\u001b[0;34m,\u001b[0m \u001b[0my\u001b[0m\u001b[0;34m)\u001b[0m\u001b[0;34m\u001b[0m\u001b[0m\n",
      "\u001b[0;31mTypeError\u001b[0m: invalid type comparison"
     ]
    }
   ],
   "source": [
    "adulttraps[adulttraps['Females_Ae_aegypti']== '2012-11-19'].head()"
   ]
  },
  {
   "cell_type": "code",
   "execution_count": null,
   "metadata": {
    "collapsed": true
   },
   "outputs": [],
   "source": []
  }
 ],
 "metadata": {
  "kernelspec": {
   "display_name": "Python 3",
   "language": "python",
   "name": "python3"
  },
  "language_info": {
   "codemirror_mode": {
    "name": "ipython",
    "version": 3
   },
   "file_extension": ".py",
   "mimetype": "text/x-python",
   "name": "python",
   "nbconvert_exporter": "python",
   "pygments_lexer": "ipython3",
   "version": "3.5.1"
  }
 },
 "nbformat": 4,
 "nbformat_minor": 0
}
